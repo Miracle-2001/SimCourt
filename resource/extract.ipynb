{
 "cells": [
  {
   "cell_type": "code",
   "execution_count": 7,
   "id": "8b871692",
   "metadata": {},
   "outputs": [
    {
     "name": "stdout",
     "output_type": "stream",
     "text": [
      "数据已从\"corpus.jsonl\"转换为\"corpus.txt\"\n"
     ]
    }
   ],
   "source": [
    "import json\n",
    "import re\n",
    "\n",
    "# 假设jsonl文件名为data.jsonl\n",
    "jsonl_file_path = 'corpus.jsonl'\n",
    "txt_file_path = 'corpus.txt'\n",
    "\n",
    "\n",
    "def remove_newlines(text):\n",
    "    # 替换 \\n 和 \\\\n\n",
    "    return re.sub(r'\\\\n|\\n|\\\\\\\\n', '', text)\n",
    "\n",
    "cnt=0\n",
    "# 打开jsonl文件和txt文件\n",
    "with open(jsonl_file_path, 'r', encoding='utf-8') as jsonl_file, \\\n",
    "        open(txt_file_path, 'w', encoding='utf-8') as txt_file:\n",
    "\n",
    "    # 逐行读取jsonl文件\n",
    "    for line in jsonl_file:\n",
    "        # 解析每一行的JSON数据\n",
    "        cnt+=1\n",
    "        # if cnt>5000:\n",
    "        #     break\n",
    "        json_data = json.loads(line)\n",
    "        \n",
    "        # 将JSON数据转换为字符串，这里简单地使用str()函数，根据需要可以自定义格式\n",
    "        text_data = json_data[\"name\"]+\"：\"+remove_newlines(json_data[\"content\"])\n",
    "        \n",
    "        # 写入到txt文件中\n",
    "        txt_file.write(text_data + '\\n')  # 每条数据后添加换行符，根据需要调整\n",
    "\n",
    "print(f'数据已从\"{jsonl_file_path}\"转换为\"{txt_file_path}\"')\n"
   ]
  },
  {
   "cell_type": "code",
   "execution_count": 1,
   "id": "ae71dfad",
   "metadata": {},
   "outputs": [
    {
     "name": "stdout",
     "output_type": "stream",
     "text": [
      "数据已从\"corpus.jsonl\"转换为\"law.json\"\n"
     ]
    }
   ],
   "source": [
    "import json\n",
    "import re\n",
    "import os\n",
    "# 假设jsonl文件名为data.jsonl\n",
    "jsonl_file_path = 'corpus.jsonl'\n",
    "txt_file_path = 'law.json'\n",
    "def remove_newlines(text):\n",
    "    # 替换 \\n 和 \\\\n\n",
    "    return re.sub(r'\\\\n|\\n|\\\\\\\\n', '', text)\n",
    "\n",
    "cnt=0\n",
    "# 打开jsonl文件和txt文件\n",
    "law_repository={}\n",
    "with open(jsonl_file_path, 'r', encoding='utf-8') as jsonl_file:\n",
    "\n",
    "    # 逐行读取jsonl文件\n",
    "    for line in jsonl_file:\n",
    "        # 解析每一行的JSON数据\n",
    "        cnt+=1\n",
    "        # if cnt>5000:\n",
    "        #     break\n",
    "        json_data = json.loads(line)\n",
    "        \n",
    "        # 将JSON数据转换为字符串，这里简单地使用str()函数，根据需要可以自定义格式\n",
    "        law_repository.update({json_data[\"name\"]:remove_newlines(json_data[\"content\"])})\n",
    "        # 写入到txt文件中\n",
    "\n",
    "\n",
    "\n",
    "def save_json(js,filepath,filename):\n",
    "    if os.path.exists(filepath) == False:\n",
    "        os.makedirs(filepath)\n",
    "    # js=json.loads(js)\n",
    "    with open(os.path.join(filepath,filename),\"w\", encoding=\"utf-8\") as f:\n",
    "        json.dump(js, f, ensure_ascii=False, indent=2)\n",
    "\n",
    "save_json(law_repository,\"./\",txt_file_path)\n",
    "print(f'数据已从\"{jsonl_file_path}\"转换为\"{txt_file_path}\"')\n"
   ]
  },
  {
   "cell_type": "code",
   "execution_count": 5,
   "id": "a2db4cef",
   "metadata": {},
   "outputs": [
    {
     "name": "stdout",
     "output_type": "stream",
     "text": [
      "追诉期限从犯罪之日起计算；犯罪行为有连续或者继续状态的，从犯罪行为终了之日起计算。在追诉期限以内又犯罪的，前罪追诉的期限从犯后罪之日起计算。\n"
     ]
    }
   ],
   "source": [
    "import re\n",
    "\n",
    "def remove_newlines(text):\n",
    "    # 替换 \\n 和 \\\\n\n",
    "    return re.sub(r'\\\\n|\\n|\\\\\\\\n', '', text)\n",
    "\n",
    "# 示例字符串\n",
    "sample_text = \"追诉期限从犯罪之日起计算；犯罪行为有连续或者继续状态的，从犯罪行为终了之日起计算。\\n\\n在追诉期限以内又犯罪的，前罪追诉的期限从犯后罪之日起计算。\\n\\n\"\n",
    "\n",
    "# 清除字符串中的 \\n 和 \\\\n\n",
    "cleaned_text = remove_newlines(sample_text)\n",
    "print(cleaned_text)\n"
   ]
  },
  {
   "cell_type": "code",
   "execution_count": 2,
   "id": "dfe33954",
   "metadata": {},
   "outputs": [
    {
     "name": "stdout",
     "output_type": "stream",
     "text": [
      "4\n"
     ]
    }
   ],
   "source": [
    "d={\"3\":4,\"gg\":33}\n",
    "if \"3\" in d:\n",
    "    print(d[\"3\"])"
   ]
  }
 ],
 "metadata": {
  "kernelspec": {
   "display_name": "Python 3",
   "language": "python",
   "name": "python3"
  },
  "language_info": {
   "codemirror_mode": {
    "name": "ipython",
    "version": 3
   },
   "file_extension": ".py",
   "mimetype": "text/x-python",
   "name": "python",
   "nbconvert_exporter": "python",
   "pygments_lexer": "ipython3",
   "version": "3.10.0"
  }
 },
 "nbformat": 4,
 "nbformat_minor": 5
}
